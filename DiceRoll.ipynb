{
  "nbformat": 4,
  "nbformat_minor": 0,
  "metadata": {
    "colab": {
      "provenance": [],
      "authorship_tag": "ABX9TyPGr4XP5XYLm7ybgXO2Mh7Z",
      "include_colab_link": true
    },
    "kernelspec": {
      "name": "python3",
      "display_name": "Python 3"
    },
    "language_info": {
      "name": "python"
    }
  },
  "cells": [
    {
      "cell_type": "markdown",
      "metadata": {
        "id": "view-in-github",
        "colab_type": "text"
      },
      "source": [
        "<a href=\"https://colab.research.google.com/github/anshhhxh/DNS/blob/master/DiceRoll.ipynb\" target=\"_parent\"><img src=\"https://colab.research.google.com/assets/colab-badge.svg\" alt=\"Open In Colab\"/></a>"
      ]
    },
    {
      "cell_type": "code",
      "execution_count": 5,
      "metadata": {
        "colab": {
          "base_uri": "https://localhost:8080/"
        },
        "id": "_NLdydO3U24J",
        "outputId": "f6b45819-8b01-43fe-e23e-d162820a691c"
      },
      "outputs": [
        {
          "name": "stdout",
          "output_type": "stream",
          "text": [
            "Do you want to roll dice: yes\n",
            "4\n",
            "Do you want to roll dice: yes\n",
            "1\n",
            "Do you want to roll dice: yes\n",
            "1\n",
            "Do you want to roll dice: yes\n",
            "1\n",
            "Do you want to roll dice: yes\n",
            "2\n",
            "Do you want to roll dice: no\n"
          ]
        }
      ],
      "source": [
        "import random as rn\n",
        "while True:\n",
        "  user=input(\"Do you want to roll dice: \")\n",
        "  if user==\"yes\":\n",
        "    num=rn.randint(1,6)\n",
        "    print(num)\n",
        "  else:\n",
        "    break"
      ]
    }
  ]
}